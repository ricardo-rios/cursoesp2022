{
  "nbformat": 4,
  "nbformat_minor": 0,
  "metadata": {
    "colab": {
      "name": "clase30marzo.ipynb",
      "provenance": [],
      "collapsed_sections": [],
      "include_colab_link": true
    },
    "kernelspec": {
      "name": "python3",
      "display_name": "Python 3"
    },
    "language_info": {
      "name": "python"
    }
  },
  "cells": [
    {
      "cell_type": "markdown",
      "metadata": {
        "id": "view-in-github",
        "colab_type": "text"
      },
      "source": [
        "<a href=\"https://colab.research.google.com/github/ricardo-rios/cursoesp2022/blob/main/UnidadI/clase30marzo.ipynb\" target=\"_parent\"><img src=\"https://colab.research.google.com/assets/colab-badge.svg\" alt=\"Open In Colab\"/></a>"
      ]
    },
    {
      "cell_type": "markdown",
      "source": [
        "# Comparaciones con if, elif, y else"
      ],
      "metadata": {
        "id": "nl5JCw_EFf5c"
      }
    },
    {
      "cell_type": "code",
      "source": [
        "disaster = True\n",
        "if disaster: \n",
        "  print(\":(\")"
      ],
      "metadata": {
        "colab": {
          "base_uri": "https://localhost:8080/"
        },
        "id": "x5B0yQANFjkr",
        "outputId": "0500f973-dcfd-4e18-f571-1f7787d13c4f"
      },
      "execution_count": null,
      "outputs": [
        {
          "output_type": "stream",
          "name": "stdout",
          "text": [
            ":(\n"
          ]
        }
      ]
    },
    {
      "cell_type": "code",
      "source": [
        "disaster = False\n",
        "if disaster:  \n",
        "  print(\":(\")  \n",
        "else:\n",
        "  print(\":)\")\n",
        "print(\"Line of code after the if-else statement\")"
      ],
      "metadata": {
        "colab": {
          "base_uri": "https://localhost:8080/"
        },
        "id": "A4K65UcNGlpN",
        "outputId": "88d81913-fa02-4000-cb20-5150e2bf052b"
      },
      "execution_count": null,
      "outputs": [
        {
          "output_type": "stream",
          "name": "stdout",
          "text": [
            ":)\n",
            "Line of code after the if-else statement\n"
          ]
        }
      ]
    },
    {
      "cell_type": "code",
      "source": [
        "furry = True \n",
        "large = True\n",
        "\n",
        "if furry:\n",
        "  if large:\n",
        "    print(\"It's a yeti\")\n",
        "  else: \n",
        "    print(\"It's a cat\")\n",
        "else:\n",
        "  if large:\n",
        "    print(\"It's a whale\") \n",
        "  else:\n",
        "    print(\"It's a human\")   "
      ],
      "metadata": {
        "id": "bhlrW1M0HqoQ",
        "colab": {
          "base_uri": "https://localhost:8080/"
        },
        "outputId": "7b608251-1b4c-4372-dfca-5d2f4424bdae"
      },
      "execution_count": null,
      "outputs": [
        {
          "output_type": "stream",
          "name": "stdout",
          "text": [
            "It's a yeti\n"
          ]
        }
      ]
    },
    {
      "cell_type": "code",
      "source": [
        "color = \"mauve\"\n",
        "\n",
        "if color == \"red\":\n",
        "  print(\"It's a tomato\")\n",
        "elif color == \"green\":\n",
        "  print(\"It's a green pepper\")\n",
        "elif color == \"bee purple\":\n",
        "  print(\"Only bees can see it\")\n",
        "else: \n",
        "  print(\"I've never heard of the color\", color)"
      ],
      "metadata": {
        "id": "eaH2TwbsH609",
        "colab": {
          "base_uri": "https://localhost:8080/"
        },
        "outputId": "325c557a-1b36-485f-fc80-9b8020822a81"
      },
      "execution_count": null,
      "outputs": [
        {
          "output_type": "stream",
          "name": "stdout",
          "text": [
            "I've never heard of the color mauve\n"
          ]
        }
      ]
    },
    {
      "cell_type": "code",
      "source": [
        "x = 7 "
      ],
      "metadata": {
        "id": "jgeFELTlFC9h"
      },
      "execution_count": null,
      "outputs": []
    },
    {
      "cell_type": "code",
      "source": [
        "x == 7 "
      ],
      "metadata": {
        "colab": {
          "base_uri": "https://localhost:8080/"
        },
        "id": "S-c9xP0ZFiPf",
        "outputId": "00a878a9-1f5a-40ca-d00a-f6c7c3fc7895"
      },
      "execution_count": null,
      "outputs": [
        {
          "output_type": "execute_result",
          "data": {
            "text/plain": [
              "True"
            ]
          },
          "metadata": {},
          "execution_count": 6
        }
      ]
    },
    {
      "cell_type": "code",
      "source": [
        "x == 5"
      ],
      "metadata": {
        "colab": {
          "base_uri": "https://localhost:8080/"
        },
        "id": "By2mLQXQFjWN",
        "outputId": "ccab2e52-eaee-4ffc-e1df-92db5a1335e4"
      },
      "execution_count": null,
      "outputs": [
        {
          "output_type": "execute_result",
          "data": {
            "text/plain": [
              "False"
            ]
          },
          "metadata": {},
          "execution_count": 7
        }
      ]
    },
    {
      "cell_type": "code",
      "source": [
        "5 < x "
      ],
      "metadata": {
        "colab": {
          "base_uri": "https://localhost:8080/"
        },
        "id": "2GYaDU9MFn2d",
        "outputId": "3456eaba-2651-42ae-8b97-16fb3e26f120"
      },
      "execution_count": null,
      "outputs": [
        {
          "output_type": "execute_result",
          "data": {
            "text/plain": [
              "True"
            ]
          },
          "metadata": {},
          "execution_count": 8
        }
      ]
    },
    {
      "cell_type": "code",
      "source": [
        "x < 10 "
      ],
      "metadata": {
        "colab": {
          "base_uri": "https://localhost:8080/"
        },
        "id": "mumROnBGFqPU",
        "outputId": "19347f00-1b1a-40cb-9c7d-42f25c37ff30"
      },
      "execution_count": null,
      "outputs": [
        {
          "output_type": "execute_result",
          "data": {
            "text/plain": [
              "True"
            ]
          },
          "metadata": {},
          "execution_count": 9
        }
      ]
    },
    {
      "cell_type": "code",
      "source": [
        "5 < x and x < 10 "
      ],
      "metadata": {
        "colab": {
          "base_uri": "https://localhost:8080/"
        },
        "id": "wovCZaw7FtCL",
        "outputId": "c40f9d85-5764-42b4-ae9f-b04f7fe066cc"
      },
      "execution_count": null,
      "outputs": [
        {
          "output_type": "execute_result",
          "data": {
            "text/plain": [
              "True"
            ]
          },
          "metadata": {},
          "execution_count": 10
        }
      ]
    },
    {
      "cell_type": "code",
      "source": [
        "(5 < x) and (x < 10)"
      ],
      "metadata": {
        "colab": {
          "base_uri": "https://localhost:8080/"
        },
        "id": "ok2Z2e-uGAFU",
        "outputId": "b772194c-8856-4d2b-8411-57be8e91518e"
      },
      "execution_count": null,
      "outputs": [
        {
          "output_type": "execute_result",
          "data": {
            "text/plain": [
              "True"
            ]
          },
          "metadata": {},
          "execution_count": 11
        }
      ]
    },
    {
      "cell_type": "code",
      "source": [
        "(5 < x) or (x < 10)"
      ],
      "metadata": {
        "colab": {
          "base_uri": "https://localhost:8080/"
        },
        "id": "KdeBWieRGJnY",
        "outputId": "4a3ada96-c03d-4977-9b4b-f7155cfca578"
      },
      "execution_count": null,
      "outputs": [
        {
          "output_type": "execute_result",
          "data": {
            "text/plain": [
              "True"
            ]
          },
          "metadata": {},
          "execution_count": 12
        }
      ]
    },
    {
      "cell_type": "code",
      "source": [
        "5 < x and not x < 10 "
      ],
      "metadata": {
        "colab": {
          "base_uri": "https://localhost:8080/"
        },
        "id": "ux2-1mkZGWJ8",
        "outputId": "2de7a1e1-ec7d-45e8-b9f0-724ad8ba360d"
      },
      "execution_count": null,
      "outputs": [
        {
          "output_type": "execute_result",
          "data": {
            "text/plain": [
              "False"
            ]
          },
          "metadata": {},
          "execution_count": 13
        }
      ]
    },
    {
      "cell_type": "code",
      "source": [
        "(5 < x) and (not x < 10)"
      ],
      "metadata": {
        "colab": {
          "base_uri": "https://localhost:8080/"
        },
        "id": "512pJmV7GtLU",
        "outputId": "7d986e68-1b18-4ae4-8da8-f4c2a4e5fed9"
      },
      "execution_count": null,
      "outputs": [
        {
          "output_type": "execute_result",
          "data": {
            "text/plain": [
              "False"
            ]
          },
          "metadata": {},
          "execution_count": 14
        }
      ]
    },
    {
      "cell_type": "code",
      "source": [
        "5 < x < 10 "
      ],
      "metadata": {
        "colab": {
          "base_uri": "https://localhost:8080/"
        },
        "id": "l14tS6XtGy6L",
        "outputId": "3edf175a-016b-4496-83ce-dae85261bc5f"
      },
      "execution_count": null,
      "outputs": [
        {
          "output_type": "execute_result",
          "data": {
            "text/plain": [
              "True"
            ]
          },
          "metadata": {},
          "execution_count": 15
        }
      ]
    },
    {
      "cell_type": "code",
      "source": [
        "5 < x < 10 < 99 "
      ],
      "metadata": {
        "colab": {
          "base_uri": "https://localhost:8080/"
        },
        "id": "Y_LqgSExG3E3",
        "outputId": "dea1e0c9-d559-4770-d6c0-36118d6b364c"
      },
      "execution_count": null,
      "outputs": [
        {
          "output_type": "execute_result",
          "data": {
            "text/plain": [
              "True"
            ]
          },
          "metadata": {},
          "execution_count": 16
        }
      ]
    },
    {
      "cell_type": "code",
      "source": [
        "some_list = []\n",
        "if some_list: \n",
        "  print(\"There's something in here\")\n",
        "else:\n",
        "  print(\"It's empty.\")"
      ],
      "metadata": {
        "colab": {
          "base_uri": "https://localhost:8080/"
        },
        "id": "UNNlcqOZG8em",
        "outputId": "c1bfec14-4c0d-4ec0-d088-570fd67df85f"
      },
      "execution_count": null,
      "outputs": [
        {
          "output_type": "stream",
          "name": "stdout",
          "text": [
            "It's empty.\n"
          ]
        }
      ]
    },
    {
      "cell_type": "code",
      "source": [
        "vowels = 'aeiou'\n",
        "letter = 'o'\n",
        "letter in vowels"
      ],
      "metadata": {
        "colab": {
          "base_uri": "https://localhost:8080/"
        },
        "id": "5FKfyTpKHx4Q",
        "outputId": "8c8a6f3d-e857-41dc-ffe6-13883243ce45"
      },
      "execution_count": null,
      "outputs": [
        {
          "output_type": "execute_result",
          "data": {
            "text/plain": [
              "True"
            ]
          },
          "metadata": {},
          "execution_count": 24
        }
      ]
    },
    {
      "cell_type": "code",
      "source": [
        "if letter in vowels: \n",
        "  print(letter, 'is a vowel')\n"
      ],
      "metadata": {
        "colab": {
          "base_uri": "https://localhost:8080/"
        },
        "id": "mMt-SqGvJYK_",
        "outputId": "5654a077-15ce-4367-bfd0-196a4e37a8d0"
      },
      "execution_count": null,
      "outputs": [
        {
          "output_type": "stream",
          "name": "stdout",
          "text": [
            "o is a vowel\n"
          ]
        }
      ]
    },
    {
      "cell_type": "code",
      "source": [
        "! python --version "
      ],
      "metadata": {
        "colab": {
          "base_uri": "https://localhost:8080/"
        },
        "id": "yYo2ektJJflU",
        "outputId": "048f28d3-79ef-47d9-d7fd-3e433f900c62"
      },
      "execution_count": null,
      "outputs": [
        {
          "output_type": "stream",
          "name": "stdout",
          "text": [
            "Python 3.7.13\n"
          ]
        }
      ]
    },
    {
      "cell_type": "markdown",
      "source": [
        "# Trabajando con cadenas de texto"
      ],
      "metadata": {
        "id": "T9mph-C3OWT-"
      }
    },
    {
      "cell_type": "code",
      "source": [
        "'Snap'"
      ],
      "metadata": {
        "colab": {
          "base_uri": "https://localhost:8080/",
          "height": 35
        },
        "id": "nbFd_FOgOX6s",
        "outputId": "ad30afd3-ba53-419f-b8d9-cef384735654"
      },
      "execution_count": null,
      "outputs": [
        {
          "output_type": "execute_result",
          "data": {
            "text/plain": [
              "'Snap'"
            ],
            "application/vnd.google.colaboratory.intrinsic+json": {
              "type": "string"
            }
          },
          "metadata": {},
          "execution_count": 27
        }
      ]
    },
    {
      "cell_type": "code",
      "source": [
        "\"Crackle\""
      ],
      "metadata": {
        "colab": {
          "base_uri": "https://localhost:8080/",
          "height": 35
        },
        "id": "XmuUdrvaOa4l",
        "outputId": "fb9b330a-5d48-40bc-c26a-aed8e14159d5"
      },
      "execution_count": null,
      "outputs": [
        {
          "output_type": "execute_result",
          "data": {
            "text/plain": [
              "'Crackle'"
            ],
            "application/vnd.google.colaboratory.intrinsic+json": {
              "type": "string"
            }
          },
          "metadata": {},
          "execution_count": 28
        }
      ]
    },
    {
      "cell_type": "code",
      "source": [
        "\"Hola Mundo' \""
      ],
      "metadata": {
        "colab": {
          "base_uri": "https://localhost:8080/",
          "height": 35
        },
        "id": "CJRVNB0TOnBI",
        "outputId": "7d18706d-5ff7-4f20-dc2b-bcb611f35c69"
      },
      "execution_count": null,
      "outputs": [
        {
          "output_type": "execute_result",
          "data": {
            "text/plain": [
              "\"Hola Mundo' \""
            ],
            "application/vnd.google.colaboratory.intrinsic+json": {
              "type": "string"
            }
          },
          "metadata": {},
          "execution_count": 30
        }
      ]
    },
    {
      "cell_type": "code",
      "source": [
        "'Hola Mundo\"  '"
      ],
      "metadata": {
        "colab": {
          "base_uri": "https://localhost:8080/",
          "height": 35
        },
        "id": "qz8yOVmAPkT5",
        "outputId": "47e60cfd-ef3c-439a-9379-b3305b17c7db"
      },
      "execution_count": null,
      "outputs": [
        {
          "output_type": "execute_result",
          "data": {
            "text/plain": [
              "'Hola Mundo\"  '"
            ],
            "application/vnd.google.colaboratory.intrinsic+json": {
              "type": "string"
            }
          },
          "metadata": {},
          "execution_count": 31
        }
      ]
    },
    {
      "cell_type": "code",
      "source": [
        "''' Hola Mundo ''' "
      ],
      "metadata": {
        "colab": {
          "base_uri": "https://localhost:8080/",
          "height": 35
        },
        "id": "IGNjUTw-PmqW",
        "outputId": "02903429-4831-4922-ad72-5648c8959d21"
      },
      "execution_count": null,
      "outputs": [
        {
          "output_type": "execute_result",
          "data": {
            "text/plain": [
              "' Hola Mundo '"
            ],
            "application/vnd.google.colaboratory.intrinsic+json": {
              "type": "string"
            }
          },
          "metadata": {},
          "execution_count": 32
        }
      ]
    },
    {
      "cell_type": "code",
      "source": [
        "poem = '''There was a young lady of norway, \n",
        "          who casually sat in doorway.'''"
      ],
      "metadata": {
        "id": "Aq03Dt-mPqBz"
      },
      "execution_count": null,
      "outputs": []
    },
    {
      "cell_type": "code",
      "source": [
        "poem"
      ],
      "metadata": {
        "colab": {
          "base_uri": "https://localhost:8080/",
          "height": 35
        },
        "id": "U_epyaHIP3QW",
        "outputId": "366f14cb-5174-4243-bcf4-c2cc90f34bad"
      },
      "execution_count": null,
      "outputs": [
        {
          "output_type": "execute_result",
          "data": {
            "text/plain": [
              "'There was a young lady of norway, \\n          who casually sat in doorway.'"
            ],
            "application/vnd.google.colaboratory.intrinsic+json": {
              "type": "string"
            }
          },
          "metadata": {},
          "execution_count": 34
        }
      ]
    },
    {
      "cell_type": "code",
      "source": [
        "str(98.6)"
      ],
      "metadata": {
        "colab": {
          "base_uri": "https://localhost:8080/",
          "height": 35
        },
        "id": "6ogsbeKRP3zl",
        "outputId": "8c62e6a0-2af5-45bb-f975-ff1e01533270"
      },
      "execution_count": null,
      "outputs": [
        {
          "output_type": "execute_result",
          "data": {
            "text/plain": [
              "'98.6'"
            ],
            "application/vnd.google.colaboratory.intrinsic+json": {
              "type": "string"
            }
          },
          "metadata": {},
          "execution_count": 35
        }
      ]
    },
    {
      "cell_type": "code",
      "source": [
        "str(1.0e4)"
      ],
      "metadata": {
        "colab": {
          "base_uri": "https://localhost:8080/",
          "height": 35
        },
        "id": "2KSCxv5JQZpj",
        "outputId": "3cb3c4bc-3e82-47a6-e684-5f8037627dc9"
      },
      "execution_count": null,
      "outputs": [
        {
          "output_type": "execute_result",
          "data": {
            "text/plain": [
              "'10000.0'"
            ],
            "application/vnd.google.colaboratory.intrinsic+json": {
              "type": "string"
            }
          },
          "metadata": {},
          "execution_count": 36
        }
      ]
    },
    {
      "cell_type": "code",
      "source": [
        "str(True)"
      ],
      "metadata": {
        "colab": {
          "base_uri": "https://localhost:8080/",
          "height": 35
        },
        "id": "U_YgoTxBQbs6",
        "outputId": "c5b1e7f7-202b-4c34-bdb5-25ac16f064a8"
      },
      "execution_count": null,
      "outputs": [
        {
          "output_type": "execute_result",
          "data": {
            "text/plain": [
              "'True'"
            ],
            "application/vnd.google.colaboratory.intrinsic+json": {
              "type": "string"
            }
          },
          "metadata": {},
          "execution_count": 37
        }
      ]
    },
    {
      "cell_type": "code",
      "source": [
        ""
      ],
      "metadata": {
        "id": "C352sXZ0Qkvd"
      },
      "execution_count": null,
      "outputs": []
    }
  ]
}