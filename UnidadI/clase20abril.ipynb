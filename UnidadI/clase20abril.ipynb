{
  "nbformat": 4,
  "nbformat_minor": 0,
  "metadata": {
    "colab": {
      "name": "clase20abril.ipynb",
      "provenance": [],
      "collapsed_sections": [],
      "include_colab_link": true
    },
    "kernelspec": {
      "name": "python3",
      "display_name": "Python 3"
    },
    "language_info": {
      "name": "python"
    }
  },
  "cells": [
    {
      "cell_type": "markdown",
      "metadata": {
        "id": "view-in-github",
        "colab_type": "text"
      },
      "source": [
        "<a href=\"https://colab.research.google.com/github/ricardo-rios/cursoesp2022/blob/main/UnidadI/clase20abril.ipynb\" target=\"_parent\"><img src=\"https://colab.research.google.com/assets/colab-badge.svg\" alt=\"Open In Colab\"/></a>"
      ]
    },
    {
      "cell_type": "markdown",
      "source": [
        "# Repitiendo con while"
      ],
      "metadata": {
        "id": "zE20MbKxP6DJ"
      }
    },
    {
      "cell_type": "code",
      "source": [
        "count = 1 \n",
        "while count <= 5:\n",
        "  print(count)\n",
        "  count += 1 "
      ],
      "metadata": {
        "colab": {
          "base_uri": "https://localhost:8080/"
        },
        "id": "kpQw2xmaP9Z5",
        "outputId": "6bfcf76e-35f1-4f18-df79-5e95acc2de98"
      },
      "execution_count": null,
      "outputs": [
        {
          "output_type": "stream",
          "name": "stdout",
          "text": [
            "1\n",
            "2\n",
            "3\n",
            "4\n",
            "5\n"
          ]
        }
      ]
    },
    {
      "cell_type": "markdown",
      "source": [
        "# Cancelando el bucle con break \n"
      ],
      "metadata": {
        "id": "KbEqub-TImHs"
      }
    },
    {
      "cell_type": "code",
      "source": [
        "# El siguiente código se debe ejecutar en la consola de python 3.\n",
        "\n",
        "while True: \n",
        "  stuff = input('String to capitalize [type q to quit]: ')\n",
        "  if stuff == \"q\":\n",
        "    break\n",
        "  print(stuff.capitalize())"
      ],
      "metadata": {
        "colab": {
          "base_uri": "https://localhost:8080/"
        },
        "id": "pIXM62P2JHTr",
        "outputId": "fd080067-a060-4f0b-a4a3-6709106badf2"
      },
      "execution_count": null,
      "outputs": [
        {
          "name": "stdout",
          "output_type": "stream",
          "text": [
            "String to capitalize [type q to quit]: q\n"
          ]
        }
      ]
    },
    {
      "cell_type": "markdown",
      "source": [
        "# Usando continue "
      ],
      "metadata": {
        "id": "-mUM_51pNcNN"
      }
    },
    {
      "cell_type": "code",
      "source": [
        "  while True: \n",
        "    \n",
        "    value = input('Integer, please [q to quit]: ')\n",
        "    if value == 'q':\n",
        "      break\n",
        "    \n",
        "    number = int(value)\n",
        "\n",
        "    if number % 2 == 0:\n",
        "      continue\n",
        "    else: \n",
        "      print(\"{}, squared is, {}\".format(number, number**2))"
      ],
      "metadata": {
        "colab": {
          "base_uri": "https://localhost:8080/"
        },
        "id": "8IVzZH_ONdaL",
        "outputId": "84ba492c-0db5-4f33-9723-90bdfcafeefd"
      },
      "execution_count": null,
      "outputs": [
        {
          "name": "stdout",
          "output_type": "stream",
          "text": [
            "Integer, please [q to quit]: q\n"
          ]
        }
      ]
    },
    {
      "cell_type": "markdown",
      "source": [
        "# Usando else en un bucle while "
      ],
      "metadata": {
        "id": "wM0i6AgRP-Wz"
      }
    },
    {
      "cell_type": "code",
      "source": [
        "numbers = [1, 3, 5]\n",
        "position = 0 \n",
        "while position < len(numbers):\n",
        "  number = numbers[position]\n",
        "\n",
        "  if number % 2 == 0:\n",
        "    print(\"Found even number {}\".format(number))\n",
        "    break\n",
        "  else:\n",
        "    position += 1 \n",
        "\n",
        "else:\n",
        "  print(\"No even number found\")  "
      ],
      "metadata": {
        "colab": {
          "base_uri": "https://localhost:8080/"
        },
        "id": "5nUh-mCBOfsV",
        "outputId": "3cbd32ae-a05f-457d-d2a2-59bd93df49ff"
      },
      "execution_count": null,
      "outputs": [
        {
          "output_type": "stream",
          "name": "stdout",
          "text": [
            "No even number found\n"
          ]
        }
      ]
    },
    {
      "cell_type": "markdown",
      "source": [
        "**Ejercicio**: \n",
        "\n",
        "Usando while sumar los números enteros del 1 al 100 e imprimir esta suma. \n",
        "\n",
        "\n"
      ],
      "metadata": {
        "id": "gMcYmKOqZq4b"
      }
    },
    {
      "cell_type": "code",
      "source": [
        "suma = 0 \n",
        "\n",
        "i = 1 \n",
        "limite = 25\n",
        "\n",
        "while i <= limite: \n",
        "  suma += i \n",
        "  i += 1\n",
        "\n",
        "print(\"El valor de la suma es {}\".format(suma))"
      ],
      "metadata": {
        "colab": {
          "base_uri": "https://localhost:8080/"
        },
        "id": "C873wGYQXROP",
        "outputId": "ad9e503c-e987-4cb5-9b37-dc0ead4c0eb6"
      },
      "execution_count": null,
      "outputs": [
        {
          "output_type": "stream",
          "name": "stdout",
          "text": [
            "El valor de la suma es 325\n"
          ]
        }
      ]
    },
    {
      "cell_type": "code",
      "source": [
        "int((limite*(limite+1))/2)"
      ],
      "metadata": {
        "colab": {
          "base_uri": "https://localhost:8080/"
        },
        "id": "lQL_kC4Ga8OX",
        "outputId": "7b8cb255-7b66-429c-87da-b5a59d705f58"
      },
      "execution_count": null,
      "outputs": [
        {
          "output_type": "execute_result",
          "data": {
            "text/plain": [
              "325"
            ]
          },
          "metadata": {},
          "execution_count": 7
        }
      ]
    },
    {
      "cell_type": "code",
      "source": [
        ""
      ],
      "metadata": {
        "id": "tkl0g5q9bRcO"
      },
      "execution_count": null,
      "outputs": []
    }
  ]
}